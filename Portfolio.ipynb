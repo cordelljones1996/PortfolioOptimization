{
  "nbformat": 4,
  "nbformat_minor": 0,
  "metadata": {
    "colab": {
      "name": "Portfolio.ipynb",
      "provenance": []
    },
    "kernelspec": {
      "name": "python3",
      "display_name": "Python 3"
    }
  },
  "cells": [
    {
      "cell_type": "code",
      "metadata": {
        "id": "ZIcH8TC5pj3Y",
        "colab_type": "code",
        "colab": {}
      },
      "source": [
        "# Description: This program attempts to optimize a users portfolio using the Efficient Frontier package."
      ],
      "execution_count": null,
      "outputs": []
    },
    {
      "cell_type": "code",
      "metadata": {
        "id": "cn1lf-G2qJAM",
        "colab_type": "code",
        "colab": {
          "base_uri": "https://localhost:8080/",
          "height": 71
        },
        "outputId": "82dd4d10-c67d-40dd-e088-63f2401facf7"
      },
      "source": [
        "# Import Libraries\n",
        "from pandas_datareader import data as web\n",
        "import pandas as pd\n",
        "import numpy as np\n",
        "from datetime import datetime\n",
        "import matplotlib.pyplot as plt\n",
        "plt.style.use('fivethirtyeight')"
      ],
      "execution_count": null,
      "outputs": [
        {
          "output_type": "stream",
          "text": [
            "/usr/local/lib/python3.6/dist-packages/pandas_datareader/compat/__init__.py:7: FutureWarning: pandas.util.testing is deprecated. Use the functions in the public API at pandas.testing instead.\n",
            "  from pandas.util.testing import assert_frame_equal\n"
          ],
          "name": "stderr"
        }
      ]
    },
    {
      "cell_type": "code",
      "metadata": {
        "id": "JknZVNbnqmS_",
        "colab_type": "code",
        "colab": {}
      },
      "source": [
        "# Getting stock symbols/tickers for the portfolio\n",
        "# (FAANG/TM) Facebook, Apple, Amazon, Netflix, Google, Tesla, Microsoft\n",
        "assets = ['FB', 'AMZN', 'AAPL', 'NFLX', 'GOOG', 'TSLA', 'MSFT']"
      ],
      "execution_count": 50,
      "outputs": []
    },
    {
      "cell_type": "code",
      "metadata": {
        "id": "kdcD8N2Vq6wJ",
        "colab_type": "code",
        "colab": {}
      },
      "source": [
        "# Assign weights to stocks in the portfolio\n",
        "weights = np.array([0.14285714, 0.14285714, 0.14285714, 0.14285714, 0.14285714, 0.14285714, 0.14285714])"
      ],
      "execution_count": 51,
      "outputs": []
    },
    {
      "cell_type": "code",
      "metadata": {
        "id": "cXx83EsyrJfj",
        "colab_type": "code",
        "colab": {}
      },
      "source": [
        "# Get the stock/portfolio starting date\n",
        "stockStartDate = '2013-01-01' # First full trading year for FB"
      ],
      "execution_count": 52,
      "outputs": []
    },
    {
      "cell_type": "code",
      "metadata": {
        "id": "PbU16TQ8rXuk",
        "colab_type": "code",
        "colab": {
          "base_uri": "https://localhost:8080/",
          "height": 37
        },
        "outputId": "92a1c3ba-74ba-466f-a83d-7ca1d633f05c"
      },
      "source": [
        "# Get todays date\n",
        "today = datetime.today().strftime('%Y-%m-%d')\n",
        "today"
      ],
      "execution_count": 53,
      "outputs": [
        {
          "output_type": "execute_result",
          "data": {
            "application/vnd.google.colaboratory.intrinsic": {
              "type": "string"
            },
            "text/plain": [
              "'2020-07-16'"
            ]
          },
          "metadata": {
            "tags": []
          },
          "execution_count": 53
        }
      ]
    },
    {
      "cell_type": "code",
      "metadata": {
        "id": "YBtXIGw0rsi4",
        "colab_type": "code",
        "colab": {}
      },
      "source": [
        "# Create a dataframe to store the adj close price of the portfolio stocks\n",
        "df = pd.DataFrame()\n",
        "\n",
        "# Store the adj close price data into the df\n",
        "for stock in assets:\n",
        "  df[stock] = web.DataReader(stock, data_source='yahoo', start = stockStartDate, end= today)['Adj Close']\n"
      ],
      "execution_count": 54,
      "outputs": []
    },
    {
      "cell_type": "code",
      "metadata": {
        "id": "zo2d9tY2sVIe",
        "colab_type": "code",
        "colab": {
          "base_uri": "https://localhost:8080/",
          "height": 450
        },
        "outputId": "c95d17e2-9c4e-4e0e-ad9d-b3ad7d7897ca"
      },
      "source": [
        "# Show the df\n",
        "df"
      ],
      "execution_count": 55,
      "outputs": [
        {
          "output_type": "execute_result",
          "data": {
            "text/html": [
              "<div>\n",
              "<style scoped>\n",
              "    .dataframe tbody tr th:only-of-type {\n",
              "        vertical-align: middle;\n",
              "    }\n",
              "\n",
              "    .dataframe tbody tr th {\n",
              "        vertical-align: top;\n",
              "    }\n",
              "\n",
              "    .dataframe thead th {\n",
              "        text-align: right;\n",
              "    }\n",
              "</style>\n",
              "<table border=\"1\" class=\"dataframe\">\n",
              "  <thead>\n",
              "    <tr style=\"text-align: right;\">\n",
              "      <th></th>\n",
              "      <th>FB</th>\n",
              "      <th>AMZN</th>\n",
              "      <th>AAPL</th>\n",
              "      <th>NFLX</th>\n",
              "      <th>GOOG</th>\n",
              "      <th>TSLA</th>\n",
              "      <th>MSFT</th>\n",
              "    </tr>\n",
              "    <tr>\n",
              "      <th>Date</th>\n",
              "      <th></th>\n",
              "      <th></th>\n",
              "      <th></th>\n",
              "      <th></th>\n",
              "      <th></th>\n",
              "      <th></th>\n",
              "      <th></th>\n",
              "    </tr>\n",
              "  </thead>\n",
              "  <tbody>\n",
              "    <tr>\n",
              "      <th>2013-01-02</th>\n",
              "      <td>28.000000</td>\n",
              "      <td>257.309998</td>\n",
              "      <td>68.502106</td>\n",
              "      <td>13.144286</td>\n",
              "      <td>360.274597</td>\n",
              "      <td>35.360001</td>\n",
              "      <td>23.297653</td>\n",
              "    </tr>\n",
              "    <tr>\n",
              "      <th>2013-01-03</th>\n",
              "      <td>27.770000</td>\n",
              "      <td>258.480011</td>\n",
              "      <td>67.637436</td>\n",
              "      <td>13.798572</td>\n",
              "      <td>360.483826</td>\n",
              "      <td>34.770000</td>\n",
              "      <td>22.985548</td>\n",
              "    </tr>\n",
              "    <tr>\n",
              "      <th>2013-01-04</th>\n",
              "      <td>28.760000</td>\n",
              "      <td>259.149994</td>\n",
              "      <td>65.753418</td>\n",
              "      <td>13.711429</td>\n",
              "      <td>367.607117</td>\n",
              "      <td>34.400002</td>\n",
              "      <td>22.555361</td>\n",
              "    </tr>\n",
              "    <tr>\n",
              "      <th>2013-01-07</th>\n",
              "      <td>29.420000</td>\n",
              "      <td>268.459991</td>\n",
              "      <td>65.366646</td>\n",
              "      <td>14.171429</td>\n",
              "      <td>366.003143</td>\n",
              "      <td>34.340000</td>\n",
              "      <td>22.513191</td>\n",
              "    </tr>\n",
              "    <tr>\n",
              "      <th>2013-01-08</th>\n",
              "      <td>29.059999</td>\n",
              "      <td>266.380005</td>\n",
              "      <td>65.542587</td>\n",
              "      <td>13.880000</td>\n",
              "      <td>365.280823</td>\n",
              "      <td>33.680000</td>\n",
              "      <td>22.395096</td>\n",
              "    </tr>\n",
              "    <tr>\n",
              "      <th>...</th>\n",
              "      <td>...</td>\n",
              "      <td>...</td>\n",
              "      <td>...</td>\n",
              "      <td>...</td>\n",
              "      <td>...</td>\n",
              "      <td>...</td>\n",
              "      <td>...</td>\n",
              "    </tr>\n",
              "    <tr>\n",
              "      <th>2020-07-10</th>\n",
              "      <td>245.070007</td>\n",
              "      <td>3200.000000</td>\n",
              "      <td>383.679993</td>\n",
              "      <td>548.729980</td>\n",
              "      <td>1541.739990</td>\n",
              "      <td>1544.650024</td>\n",
              "      <td>213.669998</td>\n",
              "    </tr>\n",
              "    <tr>\n",
              "      <th>2020-07-13</th>\n",
              "      <td>239.000000</td>\n",
              "      <td>3104.000000</td>\n",
              "      <td>381.910004</td>\n",
              "      <td>525.500000</td>\n",
              "      <td>1511.339966</td>\n",
              "      <td>1497.060059</td>\n",
              "      <td>207.070007</td>\n",
              "    </tr>\n",
              "    <tr>\n",
              "      <th>2020-07-14</th>\n",
              "      <td>239.729996</td>\n",
              "      <td>3084.000000</td>\n",
              "      <td>388.230011</td>\n",
              "      <td>524.880005</td>\n",
              "      <td>1520.579956</td>\n",
              "      <td>1516.800049</td>\n",
              "      <td>208.350006</td>\n",
              "    </tr>\n",
              "    <tr>\n",
              "      <th>2020-07-15</th>\n",
              "      <td>240.279999</td>\n",
              "      <td>3008.870117</td>\n",
              "      <td>390.899994</td>\n",
              "      <td>523.260010</td>\n",
              "      <td>1513.640015</td>\n",
              "      <td>1546.010010</td>\n",
              "      <td>208.039993</td>\n",
              "    </tr>\n",
              "    <tr>\n",
              "      <th>2020-07-16</th>\n",
              "      <td>241.014999</td>\n",
              "      <td>3012.760010</td>\n",
              "      <td>386.700012</td>\n",
              "      <td>533.724976</td>\n",
              "      <td>1511.265015</td>\n",
              "      <td>1510.750000</td>\n",
              "      <td>204.139893</td>\n",
              "    </tr>\n",
              "  </tbody>\n",
              "</table>\n",
              "<p>1898 rows × 7 columns</p>\n",
              "</div>"
            ],
            "text/plain": [
              "                    FB         AMZN  ...         TSLA        MSFT\n",
              "Date                                 ...                         \n",
              "2013-01-02   28.000000   257.309998  ...    35.360001   23.297653\n",
              "2013-01-03   27.770000   258.480011  ...    34.770000   22.985548\n",
              "2013-01-04   28.760000   259.149994  ...    34.400002   22.555361\n",
              "2013-01-07   29.420000   268.459991  ...    34.340000   22.513191\n",
              "2013-01-08   29.059999   266.380005  ...    33.680000   22.395096\n",
              "...                ...          ...  ...          ...         ...\n",
              "2020-07-10  245.070007  3200.000000  ...  1544.650024  213.669998\n",
              "2020-07-13  239.000000  3104.000000  ...  1497.060059  207.070007\n",
              "2020-07-14  239.729996  3084.000000  ...  1516.800049  208.350006\n",
              "2020-07-15  240.279999  3008.870117  ...  1546.010010  208.039993\n",
              "2020-07-16  241.014999  3012.760010  ...  1510.750000  204.139893\n",
              "\n",
              "[1898 rows x 7 columns]"
            ]
          },
          "metadata": {
            "tags": []
          },
          "execution_count": 55
        }
      ]
    },
    {
      "cell_type": "code",
      "metadata": {
        "id": "dzklByD2s_RF",
        "colab_type": "code",
        "colab": {
          "base_uri": "https://localhost:8080/",
          "height": 318
        },
        "outputId": "8c299151-e855-43aa-9ec5-bd0ab0170919"
      },
      "source": [
        "# Visually show the stock/portfolio \n",
        "title = 'Portfolio Adj. Close Price History'\n",
        "\n",
        "# Get the stocks \n",
        "my_stocks = df\n",
        "\n",
        "# Create and plot the df graph\n",
        "for c in my_stocks.columns.values:\n",
        "  plt.plot(my_stocks[c], label = c)\n",
        "\n",
        "plt.title(title)\n",
        "plt.xlabel('Date', fontsize = 18)\n",
        "plt.ylabel('Adj. Close Price USD', fontsize = 18)\n",
        "plt.legend(my_stocks.columns.values, loc = 'upper left')"
      ],
      "execution_count": 56,
      "outputs": [
        {
          "output_type": "execute_result",
          "data": {
            "text/plain": [
              "<matplotlib.legend.Legend at 0x7fe13a688780>"
            ]
          },
          "metadata": {
            "tags": []
          },
          "execution_count": 56
        },
        {
          "output_type": "display_data",
          "data": {
            "image/png": "[encoded data removed]",
            "text/plain": [
              "<Figure size 432x288 with 1 Axes>"
            ]
          },
          "metadata": {
            "tags": [],
            "needs_background": "light"
          }
        }
      ]
    },
    {
      "cell_type": "code",
      "metadata": {
        "id": "e-nQmEeFuNHr",
        "colab_type": "code",
        "colab": {
          "base_uri": "https://localhost:8080/",
          "height": 450
        },
        "outputId": "ce7628fe-6e17-4cba-f275-6b78d7f68345"
      },
      "source": [
        "# Show the daily simple return of each stock in the portfolio\n",
        "returns = df.pct_change()\n",
        "returns"
      ],
      "execution_count": 57,
      "outputs": [
        {
          "output_type": "execute_result",
          "data": {
            "text/html": [
              "<div>\n",
              "<style scoped>\n",
              "    .dataframe tbody tr th:only-of-type {\n",
              "        vertical-align: middle;\n",
              "    }\n",
              "\n",
              "    .dataframe tbody tr th {\n",
              "        vertical-align: top;\n",
              "    }\n",
              "\n",
              "    .dataframe thead th {\n",
              "        text-align: right;\n",
              "    }\n",
              "</style>\n",
              "<table border=\"1\" class=\"dataframe\">\n",
              "  <thead>\n",
              "    <tr style=\"text-align: right;\">\n",
              "      <th></th>\n",
              "      <th>FB</th>\n",
              "      <th>AMZN</th>\n",
              "      <th>AAPL</th>\n",
              "      <th>NFLX</th>\n",
              "      <th>GOOG</th>\n",
              "      <th>TSLA</th>\n",
              "      <th>MSFT</th>\n",
              "    </tr>\n",
              "    <tr>\n",
              "      <th>Date</th>\n",
              "      <th></th>\n",
              "      <th></th>\n",
              "      <th></th>\n",
              "      <th></th>\n",
              "      <th></th>\n",
              "      <th></th>\n",
              "      <th></th>\n",
              "    </tr>\n",
              "  </thead>\n",
              "  <tbody>\n",
              "    <tr>\n",
              "      <th>2013-01-02</th>\n",
              "      <td>NaN</td>\n",
              "      <td>NaN</td>\n",
              "      <td>NaN</td>\n",
              "      <td>NaN</td>\n",
              "      <td>NaN</td>\n",
              "      <td>NaN</td>\n",
              "      <td>NaN</td>\n",
              "    </tr>\n",
              "    <tr>\n",
              "      <th>2013-01-03</th>\n",
              "      <td>-0.008214</td>\n",
              "      <td>0.004547</td>\n",
              "      <td>-0.012623</td>\n",
              "      <td>0.049777</td>\n",
              "      <td>0.000581</td>\n",
              "      <td>-0.016686</td>\n",
              "      <td>-0.013396</td>\n",
              "    </tr>\n",
              "    <tr>\n",
              "      <th>2013-01-04</th>\n",
              "      <td>0.035650</td>\n",
              "      <td>0.002592</td>\n",
              "      <td>-0.027855</td>\n",
              "      <td>-0.006315</td>\n",
              "      <td>0.019760</td>\n",
              "      <td>-0.010641</td>\n",
              "      <td>-0.018716</td>\n",
              "    </tr>\n",
              "    <tr>\n",
              "      <th>2013-01-07</th>\n",
              "      <td>0.022949</td>\n",
              "      <td>0.035925</td>\n",
              "      <td>-0.005882</td>\n",
              "      <td>0.033549</td>\n",
              "      <td>-0.004363</td>\n",
              "      <td>-0.001744</td>\n",
              "      <td>-0.001870</td>\n",
              "    </tr>\n",
              "    <tr>\n",
              "      <th>2013-01-08</th>\n",
              "      <td>-0.012237</td>\n",
              "      <td>-0.007748</td>\n",
              "      <td>0.002692</td>\n",
              "      <td>-0.020565</td>\n",
              "      <td>-0.001974</td>\n",
              "      <td>-0.019220</td>\n",
              "      <td>-0.005246</td>\n",
              "    </tr>\n",
              "    <tr>\n",
              "      <th>...</th>\n",
              "      <td>...</td>\n",
              "      <td>...</td>\n",
              "      <td>...</td>\n",
              "      <td>...</td>\n",
              "      <td>...</td>\n",
              "      <td>...</td>\n",
              "      <td>...</td>\n",
              "    </tr>\n",
              "    <tr>\n",
              "      <th>2020-07-10</th>\n",
              "      <td>0.002331</td>\n",
              "      <td>0.005458</td>\n",
              "      <td>0.001749</td>\n",
              "      <td>0.080688</td>\n",
              "      <td>0.020351</td>\n",
              "      <td>0.107848</td>\n",
              "      <td>-0.003033</td>\n",
              "    </tr>\n",
              "    <tr>\n",
              "      <th>2020-07-13</th>\n",
              "      <td>-0.024768</td>\n",
              "      <td>-0.030000</td>\n",
              "      <td>-0.004613</td>\n",
              "      <td>-0.042334</td>\n",
              "      <td>-0.019718</td>\n",
              "      <td>-0.030810</td>\n",
              "      <td>-0.030889</td>\n",
              "    </tr>\n",
              "    <tr>\n",
              "      <th>2020-07-14</th>\n",
              "      <td>0.003054</td>\n",
              "      <td>-0.006443</td>\n",
              "      <td>0.016548</td>\n",
              "      <td>-0.001180</td>\n",
              "      <td>0.006114</td>\n",
              "      <td>0.013186</td>\n",
              "      <td>0.006181</td>\n",
              "    </tr>\n",
              "    <tr>\n",
              "      <th>2020-07-15</th>\n",
              "      <td>0.002294</td>\n",
              "      <td>-0.024361</td>\n",
              "      <td>0.006877</td>\n",
              "      <td>-0.003086</td>\n",
              "      <td>-0.004564</td>\n",
              "      <td>0.019258</td>\n",
              "      <td>-0.001488</td>\n",
              "    </tr>\n",
              "    <tr>\n",
              "      <th>2020-07-16</th>\n",
              "      <td>0.003059</td>\n",
              "      <td>0.001293</td>\n",
              "      <td>-0.010744</td>\n",
              "      <td>0.020000</td>\n",
              "      <td>-0.001569</td>\n",
              "      <td>-0.022807</td>\n",
              "      <td>-0.018747</td>\n",
              "    </tr>\n",
              "  </tbody>\n",
              "</table>\n",
              "<p>1898 rows × 7 columns</p>\n",
              "</div>"
            ],
            "text/plain": [
              "                  FB      AMZN      AAPL  ...      GOOG      TSLA      MSFT\n",
              "Date                                      ...                              \n",
              "2013-01-02       NaN       NaN       NaN  ...       NaN       NaN       NaN\n",
              "2013-01-03 -0.008214  0.004547 -0.012623  ...  0.000581 -0.016686 -0.013396\n",
              "2013-01-04  0.035650  0.002592 -0.027855  ...  0.019760 -0.010641 -0.018716\n",
              "2013-01-07  0.022949  0.035925 -0.005882  ... -0.004363 -0.001744 -0.001870\n",
              "2013-01-08 -0.012237 -0.007748  0.002692  ... -0.001974 -0.019220 -0.005246\n",
              "...              ...       ...       ...  ...       ...       ...       ...\n",
              "2020-07-10  0.002331  0.005458  0.001749  ...  0.020351  0.107848 -0.003033\n",
              "2020-07-13 -0.024768 -0.030000 -0.004613  ... -0.019718 -0.030810 -0.030889\n",
              "2020-07-14  0.003054 -0.006443  0.016548  ...  0.006114  0.013186  0.006181\n",
              "2020-07-15  0.002294 -0.024361  0.006877  ... -0.004564  0.019258 -0.001488\n",
              "2020-07-16  0.003059  0.001293 -0.010744  ... -0.001569 -0.022807 -0.018747\n",
              "\n",
              "[1898 rows x 7 columns]"
            ]
          },
          "metadata": {
            "tags": []
          },
          "execution_count": 57
        }
      ]
    },
    {
      "cell_type": "code",
      "metadata": {
        "id": "eOxHGvw-ubBU",
        "colab_type": "code",
        "colab": {
          "base_uri": "https://localhost:8080/",
          "height": 266
        },
        "outputId": "9b2e4ea5-0ced-4ce2-be59-dcb610b7823f"
      },
      "source": [
        "# Analyze the annualized covariance matrix of the stocks in the portfolio.\n",
        "# Covariance matrix measures two variables in how they vary/move together. \n",
        "# So the matrix is the directional relationship between two assets prices. \n",
        "# Taking the sqrt of this matrix's variance/std deviation gives the stocks volatility. \n",
        "cov_matrix_annual = returns.cov() * 252\n",
        "cov_matrix_annual"
      ],
      "execution_count": 58,
      "outputs": [
        {
          "output_type": "execute_result",
          "data": {
            "text/html": [
              "<div>\n",
              "<style scoped>\n",
              "    .dataframe tbody tr th:only-of-type {\n",
              "        vertical-align: middle;\n",
              "    }\n",
              "\n",
              "    .dataframe tbody tr th {\n",
              "        vertical-align: top;\n",
              "    }\n",
              "\n",
              "    .dataframe thead th {\n",
              "        text-align: right;\n",
              "    }\n",
              "</style>\n",
              "<table border=\"1\" class=\"dataframe\">\n",
              "  <thead>\n",
              "    <tr style=\"text-align: right;\">\n",
              "      <th></th>\n",
              "      <th>FB</th>\n",
              "      <th>AMZN</th>\n",
              "      <th>AAPL</th>\n",
              "      <th>NFLX</th>\n",
              "      <th>GOOG</th>\n",
              "      <th>TSLA</th>\n",
              "      <th>MSFT</th>\n",
              "    </tr>\n",
              "  </thead>\n",
              "  <tbody>\n",
              "    <tr>\n",
              "      <th>FB</th>\n",
              "      <td>0.116620</td>\n",
              "      <td>0.052354</td>\n",
              "      <td>0.041115</td>\n",
              "      <td>0.054771</td>\n",
              "      <td>0.049116</td>\n",
              "      <td>0.056027</td>\n",
              "      <td>0.041965</td>\n",
              "    </tr>\n",
              "    <tr>\n",
              "      <th>AMZN</th>\n",
              "      <td>0.052354</td>\n",
              "      <td>0.092003</td>\n",
              "      <td>0.035817</td>\n",
              "      <td>0.061574</td>\n",
              "      <td>0.046646</td>\n",
              "      <td>0.052646</td>\n",
              "      <td>0.043182</td>\n",
              "    </tr>\n",
              "    <tr>\n",
              "      <th>AAPL</th>\n",
              "      <td>0.041115</td>\n",
              "      <td>0.035817</td>\n",
              "      <td>0.076383</td>\n",
              "      <td>0.032031</td>\n",
              "      <td>0.037528</td>\n",
              "      <td>0.044007</td>\n",
              "      <td>0.041707</td>\n",
              "    </tr>\n",
              "    <tr>\n",
              "      <th>NFLX</th>\n",
              "      <td>0.054771</td>\n",
              "      <td>0.061574</td>\n",
              "      <td>0.032031</td>\n",
              "      <td>0.212625</td>\n",
              "      <td>0.049090</td>\n",
              "      <td>0.071079</td>\n",
              "      <td>0.043730</td>\n",
              "    </tr>\n",
              "    <tr>\n",
              "      <th>GOOG</th>\n",
              "      <td>0.049116</td>\n",
              "      <td>0.046646</td>\n",
              "      <td>0.037528</td>\n",
              "      <td>0.049090</td>\n",
              "      <td>0.064954</td>\n",
              "      <td>0.045429</td>\n",
              "      <td>0.043710</td>\n",
              "    </tr>\n",
              "    <tr>\n",
              "      <th>TSLA</th>\n",
              "      <td>0.056027</td>\n",
              "      <td>0.052646</td>\n",
              "      <td>0.044007</td>\n",
              "      <td>0.071079</td>\n",
              "      <td>0.045429</td>\n",
              "      <td>0.295764</td>\n",
              "      <td>0.046188</td>\n",
              "    </tr>\n",
              "    <tr>\n",
              "      <th>MSFT</th>\n",
              "      <td>0.041965</td>\n",
              "      <td>0.043182</td>\n",
              "      <td>0.041707</td>\n",
              "      <td>0.043730</td>\n",
              "      <td>0.043710</td>\n",
              "      <td>0.046188</td>\n",
              "      <td>0.068693</td>\n",
              "    </tr>\n",
              "  </tbody>\n",
              "</table>\n",
              "</div>"
            ],
            "text/plain": [
              "            FB      AMZN      AAPL      NFLX      GOOG      TSLA      MSFT\n",
              "FB    0.116620  0.052354  0.041115  0.054771  0.049116  0.056027  0.041965\n",
              "AMZN  0.052354  0.092003  0.035817  0.061574  0.046646  0.052646  0.043182\n",
              "AAPL  0.041115  0.035817  0.076383  0.032031  0.037528  0.044007  0.041707\n",
              "NFLX  0.054771  0.061574  0.032031  0.212625  0.049090  0.071079  0.043730\n",
              "GOOG  0.049116  0.046646  0.037528  0.049090  0.064954  0.045429  0.043710\n",
              "TSLA  0.056027  0.052646  0.044007  0.071079  0.045429  0.295764  0.046188\n",
              "MSFT  0.041965  0.043182  0.041707  0.043730  0.043710  0.046188  0.068693"
            ]
          },
          "metadata": {
            "tags": []
          },
          "execution_count": 58
        }
      ]
    },
    {
      "cell_type": "code",
      "metadata": {
        "id": "E-iCiyjNvUR1",
        "colab_type": "code",
        "colab": {
          "base_uri": "https://localhost:8080/",
          "height": 34
        },
        "outputId": "929ee5bc-9729-4356-fd89-1c400075fef7"
      },
      "source": [
        "# Calculate the portfolio variance \n",
        "port_variance = np.dot(weights.T, np.dot(cov_matrix_annual, weights))\n",
        "port_variance"
      ],
      "execution_count": 59,
      "outputs": [
        {
          "output_type": "execute_result",
          "data": {
            "text/plain": [
              "0.05931558217982029"
            ]
          },
          "metadata": {
            "tags": []
          },
          "execution_count": 59
        }
      ]
    },
    {
      "cell_type": "code",
      "metadata": {
        "id": "0wDyenBivwB9",
        "colab_type": "code",
        "colab": {
          "base_uri": "https://localhost:8080/",
          "height": 34
        },
        "outputId": "9a4b1192-f6df-470f-82d5-06845d5d0e97"
      },
      "source": [
        "# Calculate the portfolio volatility aka std deviation aka risk\n",
        "port_volatility = np.sqrt(port_variance)\n",
        "port_volatility"
      ],
      "execution_count": 60,
      "outputs": [
        {
          "output_type": "execute_result",
          "data": {
            "text/plain": [
              "0.2435479053078065"
            ]
          },
          "metadata": {
            "tags": []
          },
          "execution_count": 60
        }
      ]
    },
    {
      "cell_type": "code",
      "metadata": {
        "id": "Te5zRotcwAyg",
        "colab_type": "code",
        "colab": {
          "base_uri": "https://localhost:8080/",
          "height": 34
        },
        "outputId": "3ce193a7-4a2c-4421-8b6a-daf324f8ab77"
      },
      "source": [
        "# Calculate the annual portfolio return \n",
        "portfolioSimpleAnnualReturn = np.sum(returns.mean() * weights) * 252\n",
        "portfolioSimpleAnnualReturn"
      ],
      "execution_count": 61,
      "outputs": [
        {
          "output_type": "execute_result",
          "data": {
            "text/plain": [
              "0.39584710700728276"
            ]
          },
          "metadata": {
            "tags": []
          },
          "execution_count": 61
        }
      ]
    },
    {
      "cell_type": "code",
      "metadata": {
        "id": "i-Skre-twWzW",
        "colab_type": "code",
        "colab": {
          "base_uri": "https://localhost:8080/",
          "height": 85
        },
        "outputId": "6f3a60a6-bf9f-4453-8f4f-5771b404e64c"
      },
      "source": [
        "# Show the expected annual return, volatility (risk), and variance\n",
        "percent_var = str(round(port_variance, 2) * 100) + '%'\n",
        "percent_vols = str(round(port_volatility, 2) * 100) + '%'\n",
        "percent_ret = str(round(portfolioSimpleAnnualReturn, 2) * 100) + '%'\n",
        "print(\"Before Optimization\")\n",
        "print(\"Expected annual return: \"+ percent_ret)\n",
        "print(\"Annual volatility / risk: \"+ percent_vols)\n",
        "print(\"Annual variance: \"+ percent_var)\n",
        "# There is a python package that can analyze the portfolio and give a higher return with a lower risk."
      ],
      "execution_count": 62,
      "outputs": [
        {
          "output_type": "stream",
          "text": [
            "Before Optimization\n",
            "Expected annual return: 40.0%\n",
            "Annual volatility / risk: 24.0%\n",
            "Annual variance: 6.0%\n"
          ],
          "name": "stdout"
        }
      ]
    },
    {
      "cell_type": "code",
      "metadata": {
        "id": "fVdzxIFmyzuI",
        "colab_type": "code",
        "colab": {
          "base_uri": "https://localhost:8080/",
          "height": 343
        },
        "outputId": "dd8be156-85b7-4b59-f55e-02a691afd718"
      },
      "source": [
        "pip install PyPortfolioOpt"
      ],
      "execution_count": null,
      "outputs": [
        {
          "output_type": "stream",
          "text": [
            "Collecting PyPortfolioOpt\n",
            "\u001b[?25l  Downloading https://files.pythonhosted.org/packages/4a/4a/043a7207683e3ab5698ea0828254e99cda718ef43d8b6785fb41b70037c1/PyPortfolioOpt-1.2.4-py3-none-any.whl (48kB)\n",
            "\r\u001b[K     |██████▉                         | 10kB 12.2MB/s eta 0:00:01\r\u001b[K     |█████████████▋                  | 20kB 2.7MB/s eta 0:00:01\r\u001b[K     |████████████████████▍           | 30kB 3.7MB/s eta 0:00:01\r\u001b[K     |███████████████████████████▏    | 40kB 4.1MB/s eta 0:00:01\r\u001b[K     |████████████████████████████████| 51kB 2.1MB/s \n",
            "\u001b[?25hRequirement already satisfied: scipy<2.0,>=1.3 in /usr/local/lib/python3.6/dist-packages (from PyPortfolioOpt) (1.4.1)\n",
            "Requirement already satisfied: numpy<2.0,>=1.12 in /usr/local/lib/python3.6/dist-packages (from PyPortfolioOpt) (1.18.5)\n",
            "Requirement already satisfied: pandas>=0.19 in /usr/local/lib/python3.6/dist-packages (from PyPortfolioOpt) (1.0.5)\n",
            "Requirement already satisfied: cvxpy<1.1,>=1.0 in /usr/local/lib/python3.6/dist-packages (from PyPortfolioOpt) (1.0.31)\n",
            "Requirement already satisfied: python-dateutil>=2.6.1 in /usr/local/lib/python3.6/dist-packages (from pandas>=0.19->PyPortfolioOpt) (2.8.1)\n",
            "Requirement already satisfied: pytz>=2017.2 in /usr/local/lib/python3.6/dist-packages (from pandas>=0.19->PyPortfolioOpt) (2018.9)\n",
            "Requirement already satisfied: scs>=1.1.3 in /usr/local/lib/python3.6/dist-packages (from cvxpy<1.1,>=1.0->PyPortfolioOpt) (2.1.2)\n",
            "Requirement already satisfied: multiprocess in /usr/local/lib/python3.6/dist-packages (from cvxpy<1.1,>=1.0->PyPortfolioOpt) (0.70.10)\n",
            "Requirement already satisfied: ecos>=2 in /usr/local/lib/python3.6/dist-packages (from cvxpy<1.1,>=1.0->PyPortfolioOpt) (2.0.7.post1)\n",
            "Requirement already satisfied: osqp>=0.4.1 in /usr/local/lib/python3.6/dist-packages (from cvxpy<1.1,>=1.0->PyPortfolioOpt) (0.6.1)\n",
            "Requirement already satisfied: six>=1.5 in /usr/local/lib/python3.6/dist-packages (from python-dateutil>=2.6.1->pandas>=0.19->PyPortfolioOpt) (1.12.0)\n",
            "Requirement already satisfied: dill>=0.3.2 in /usr/local/lib/python3.6/dist-packages (from multiprocess->cvxpy<1.1,>=1.0->PyPortfolioOpt) (0.3.2)\n",
            "Requirement already satisfied: future in /usr/local/lib/python3.6/dist-packages (from osqp>=0.4.1->cvxpy<1.1,>=1.0->PyPortfolioOpt) (0.16.0)\n",
            "Installing collected packages: PyPortfolioOpt\n",
            "Successfully installed PyPortfolioOpt-1.2.4\n"
          ],
          "name": "stdout"
        }
      ]
    },
    {
      "cell_type": "code",
      "metadata": {
        "id": "T29PX9WiziYN",
        "colab_type": "code",
        "colab": {}
      },
      "source": [
        "from pypfopt.efficient_frontier import EfficientFrontier\n",
        "from pypfopt import risk_models\n",
        "from pypfopt import expected_returns"
      ],
      "execution_count": null,
      "outputs": []
    },
    {
      "cell_type": "code",
      "metadata": {
        "id": "0L1ElLVwzy-V",
        "colab_type": "code",
        "colab": {
          "base_uri": "https://localhost:8080/",
          "height": 119
        },
        "outputId": "18acbc06-b90a-4518-ed7f-26c79b98eb63"
      },
      "source": [
        "# Optimization of the portfolio\n",
        "# Calculate the expected returns and the annualized sample covariance matrix of asset returns\n",
        "mu = expected_returns.mean_historical_return(df)\n",
        "S = risk_models.sample_cov(df)\n",
        "\n",
        "# Optimize for max sharpe ratio\n",
        "ef = EfficientFrontier(mu, S)\n",
        "weights = ef.max_sharpe()\n",
        "cleaned_weights = ef.clean_weights()\n",
        "print(\"After Optimization\")\n",
        "print(cleaned_weights)\n",
        "ef.portfolio_performance(verbose = True)"
      ],
      "execution_count": 49,
      "outputs": [
        {
          "output_type": "stream",
          "text": [
            "After Optimization\n",
            "OrderedDict([('FB', 0.04904), ('AMZN', 0.17874), ('AAPL', 0.06929), ('NFLX', 0.25513), ('GOOG', 0.0), ('TSLA', 0.19851), ('MSFT', 0.24929)])\n",
            "Expected annual return: 46.2%\n",
            "Annual volatility: 27.1%\n",
            "Sharpe Ratio: 1.63\n"
          ],
          "name": "stdout"
        },
        {
          "output_type": "execute_result",
          "data": {
            "text/plain": [
              "(0.46241271740914813, 0.27063055921738866, 1.6347478225981587)"
            ]
          },
          "metadata": {
            "tags": []
          },
          "execution_count": 49
        }
      ]
    },
    {
      "cell_type": "code",
      "metadata": {
        "id": "2ez6s7oH1bCq",
        "colab_type": "code",
        "colab": {
          "base_uri": "https://localhost:8080/",
          "height": 34
        },
        "outputId": "a3572b2e-bcf4-4f0a-d6be-d35f7b41ae8b"
      },
      "source": [
        "0.04904 + 0.17874 + 0.06929 + 0.25513 + 0.0 + 0.19851 + 0.24929"
      ],
      "execution_count": null,
      "outputs": [
        {
          "output_type": "execute_result",
          "data": {
            "text/plain": [
              "1.0"
            ]
          },
          "metadata": {
            "tags": []
          },
          "execution_count": 43
        }
      ]
    },
    {
      "cell_type": "code",
      "metadata": {
        "id": "et3r12rx1nSs",
        "colab_type": "code",
        "colab": {
          "base_uri": "https://localhost:8080/",
          "height": 71
        },
        "outputId": "4bd50f99-a4c1-4113-f3d1-c256cc7cb0c4"
      },
      "source": [
        "# Get the discrete allocation of each share per stock\n",
        "from pypfopt.discrete_allocation import DiscreteAllocation, get_latest_prices\n",
        "\n",
        "latest_prices = get_latest_prices(df)\n",
        "weights = cleaned_weights\n",
        "da = DiscreteAllocation(weights, latest_prices, total_portfolio_value = 15000)\n",
        "\n",
        "allocation , leftover = da.lp_portfolio()\n",
        "print(\"Discrete allocation:\",allocation)\n",
        "print(\"Funds remaining: ${:.2f}\".format(leftover))"
      ],
      "execution_count": null,
      "outputs": [
        {
          "output_type": "stream",
          "text": [
            "Discrete allocation: {'FB': 3.0, 'AMZN': 1.0, 'AAPL': 2.0, 'NFLX': 7.0, 'TSLA': 2.0, 'MSFT': 18.0}\n",
            "Funds remaining: $67.46\n"
          ],
          "name": "stdout"
        }
      ]
    }
  ]
}